{
 "cells": [
  {
   "cell_type": "code",
   "execution_count": 2,
   "metadata": {},
   "outputs": [],
   "source": [
    "from utils import process_csv\n",
    "import numpy as np"
   ]
  },
  {
   "cell_type": "code",
   "execution_count": 3,
   "metadata": {},
   "outputs": [
    {
     "name": "stdout",
     "output_type": "stream",
     "text": [
      "/home/u1604520\n"
     ]
    }
   ],
   "source": [
    "cd /home/u1604520"
   ]
  },
  {
   "cell_type": "code",
   "execution_count": 4,
   "metadata": {},
   "outputs": [],
   "source": [
    "confidence_level = 0.90\n",
    "num_realizations = 100\n",
    "num_methods = 2\n",
    "seed = 0\n",
    "B = 200 \n",
    "m = 1\n",
    "c = 1\n",
    "T = 100"
   ]
  },
  {
   "cell_type": "code",
   "execution_count": 5,
   "metadata": {},
   "outputs": [],
   "source": [
    "# theta star is [beta, ucontrol, utreatment] (npl) \n",
    "theta_star_b = np.array([2.8017219, 0.8963631, 2.1049698, 0.8133269])\n",
    "\n",
    "theta_star_ucntrl = np.array([-0.0062962610 ,-0.0124886363 ,-0.0656259120,  0.0553920129,  0.0016368189,\n",
    " -0.1133628937, -0.0823724184, -0.1409955998, -0.1196572700, -0.2140463897,\n",
    " -0.2287150942, -0.1594304356, -0.1298448332, -0.0006475635, -0.0972845478,\n",
    " -0.0640575452,  0.0530625889, -0.1225419293,  0.0436204916, -0.0700521705,\n",
    " -0.0450052633, -0.1080204410, -0.1011592976, -0.0089961038, -0.0903640071,\n",
    " -0.0195710565,  0.0176386410, -0.0951353724,  0.0080870863, -0.0485360440])\n",
    "\n",
    "theta_star_utrtmt = np.array([0.154291197,  0.077666984,  0.115663081,  0.049347918,  0.034666114,  0.040726930,\n",
    " -0.051816476, -0.143477886, -0.099363696, -0.342144260, -0.505408033, -0.811219698,\n",
    " -0.686494578, -0.644809594, -0.328456841,  0.073138617,  0.163276948,  0.276747908,\n",
    "  0.139502494, -0.007725181,  0.185601587,  0.080644727,  0.045213061,  0.032665026,\n",
    "  0.186584743,  0.010521884, -0.056215417, -0.072445351, -0.123186781,  0.026694320])\n",
    "\n",
    "theta_star = np.concatenate([theta_star_b, theta_star_ucntrl, theta_star_utrtmt])"
   ]
  },
  {
   "cell_type": "code",
   "execution_count": 6,
   "metadata": {},
   "outputs": [],
   "source": [
    "# folder_path = './results/mh/bcr_sim_data/'\n",
    "folder_path = './results/mh/bcr_sim_data2/'\n",
    "folder_path_bcr = './results/mh/bcr_sim_data_bcr/bcr_samples/'"
   ]
  },
  {
   "cell_type": "code",
   "execution_count": 7,
   "metadata": {},
   "outputs": [],
   "source": [
    "import pandas as pd\n",
    "import random"
   ]
  },
  {
   "cell_type": "code",
   "execution_count": 8,
   "metadata": {},
   "outputs": [],
   "source": [
    "# for (k in 1:ncZ){\n",
    "#   knots[k] = ((ncZ+1-k)*min(xg)+k*max(xg))/(ncZ+1)\n",
    "# }\n",
    "\n",
    "# reg_true <- numeric(n)\n",
    "# for  (i in 1:n){\n",
    "#   reg_true[i] <- mean_beta[2] + mean_beta[4]*xg[i]\n",
    "#   for (k in 1:ncZ){\n",
    "#     reg_true[i] <- (reg_true[i] + (mean_u_treatment[k]-mean_u_control[k])*(xg[i]-knots[k])*(xg[i]>knots[k]))\n",
    "#   }\n",
    "# }\n",
    "\n"
   ]
  },
  {
   "cell_type": "code",
   "execution_count": 9,
   "metadata": {},
   "outputs": [],
   "source": [
    "def compute_ate(x, theta, knots):\n",
    "    theta_b = theta[:4]\n",
    "    theta_ucntrl = theta[4:34]\n",
    "    theta_utrtmt = theta[34:]\n",
    "    ate = np.zeros(len(x))\n",
    "    for i in range(len(x)):\n",
    "        ate[i] += theta_b[1] + theta_b[3]*x[i]\n",
    "        for k in range(30):\n",
    "            ate[i] += (theta_utrtmt[k] - theta_ucntrl[k])*(x[i]-knots[k])*max(0, x[i]-knots[k])\n",
    "    return ate"
   ]
  },
  {
   "cell_type": "code",
   "execution_count": 10,
   "metadata": {},
   "outputs": [
    {
     "name": "stdout",
     "output_type": "stream",
     "text": [
      "Coverage Probabilities for Robust-MEM (MMD) : [100. 100.  28. 100. 100. 100. 100. 100. 100. 100. 100. 100. 100. 100.\n",
      " 100. 100. 100. 100. 100. 100. 100. 100. 100. 100. 100. 100. 100. 100.\n",
      " 100. 100. 100. 100. 100. 100. 100. 100. 100. 100. 100. 100. 100. 100.\n",
      " 100. 100.  56.   0.   0.   0. 100. 100. 100. 100. 100. 100. 100. 100.\n",
      " 100. 100. 100. 100. 100. 100. 100. 100.]%\n",
      "Coverage Probabilities for BCR: [ 99.  99.  98.  99. 100. 100. 100. 100. 100. 100. 100. 100. 100. 100.\n",
      " 100. 100. 100. 100. 100. 100. 100. 100. 100. 100. 100. 100. 100. 100.\n",
      " 100. 100. 100. 100. 100. 100. 100. 100. 100. 100. 100. 100. 100. 100.\n",
      " 100. 100. 100. 100. 100. 100. 100. 100. 100. 100. 100. 100. 100. 100.\n",
      " 100. 100. 100. 100. 100. 100. 100. 100.]%\n",
      "Mean Squared error res for Robust-MEM (MMD): 29.662265969238693\n",
      "Mean Squared error res for BCR: 101.91408861380887\n",
      "Mean Squared error param for Robust-MEM (MMD): 0.10749816344558474\n",
      "Mean Squared error param for BCR: 0.3650441989507498\n",
      "Std - Mean Squared error res for Robust-MEM (MMD): 18.845633810291858\n",
      "Std - Mean Squared error res for BCR: 392.53879158949525\n",
      "Std - Mean Squared error param for Robust-MEM (MMD): 0.0235030397978094\n",
      "Std - Mean Squared error param for BCR: 1.5486617350815068\n"
     ]
    }
   ],
   "source": [
    "mses = np.zeros((num_realizations, num_methods))\n",
    "mses2 = np.zeros((num_realizations, num_methods, len(theta_star)))\n",
    "stds = np.zeros((num_realizations, num_methods))\n",
    "counts = np.zeros((num_methods, len(theta_star)))\n",
    "coverage_probabilities = np.zeros((num_methods, len(theta_star)))\n",
    "seed = 0\n",
    "for r in range(num_realizations):    \n",
    "    seed += 1\n",
    "    path_data = f'./mh_study/sim_data_bcr/sim_data_bcr_{seed}.csv'\n",
    "    data_control, data_treat = process_csv(path_data)\n",
    "    boot_sample = np.loadtxt(folder_path+f'bootstrap_samples_bcr_{seed}.txt')\n",
    "    # change order of beta to match bcr and theta star \n",
    "    boot_sample[:, [2, 1]] = boot_sample[:, [1, 2]]\n",
    "    #bcr_sample = np.loadtxt(folder_path_bcr+f'bcr_sample_{seed}.txt')\n",
    "    bcr_sample = pd.read_csv(folder_path_bcr+f'bcr_sample_{seed}.txt', delim_whitespace=True)\n",
    "    \n",
    "    mean_boot_sample = boot_sample.mean(axis=0)\n",
    "    mean_bcr_sample = np.asarray(bcr_sample.mean(axis=1))\n",
    "    \n",
    "    np.random.seed(seed)\n",
    "    x = np.random.randn(500)\n",
    "    knots = np.zeros(30)\n",
    "    for k in range(30):\n",
    "        knots[k] = ((31-k)*min(x)+k*max(x))/31\n",
    "        \n",
    "    ate = compute_ate(x, theta_star, knots)\n",
    "    ate_npl = compute_ate(x, mean_boot_sample, knots)\n",
    "    ate_bcr = compute_ate(x, mean_bcr_sample, knots)\n",
    "    \n",
    "    mses[r, 0] = np.mean(np.asarray((ate_npl - ate)**2))\n",
    "    mses[r, 1] = np.mean(np.asarray((ate_bcr - ate)**2))\n",
    "    \n",
    "       \n",
    "    mses2[r, 0, :] = np.asarray((mean_boot_sample - theta_star)**2)\n",
    "    mses2[r, 1, :] = np.asarray((mean_bcr_sample - theta_star)**2)\n",
    "\n",
    "    \n",
    "    # Credible interval \n",
    "    bcr_sample = np.asarray(bcr_sample).transpose()\n",
    "    for i in range(len(theta_star)):\n",
    "        count_npl = 0\n",
    "        count_bcr = 0\n",
    "        lower_bound = np.percentile(boot_sample[:, i], (1 - confidence_level) / 2 * 100)\n",
    "        upper_bound = np.percentile(boot_sample[:, i], (1 + confidence_level) / 2 * 100)\n",
    "        lower_bound_bcr = np.percentile(bcr_sample[:, i], (1 - confidence_level) / 2 * 100)\n",
    "        upper_bound_bcr = np.percentile(bcr_sample[:, i], (1 + confidence_level) / 2 * 100)\n",
    "        if lower_bound <= theta_star[i] <= upper_bound:\n",
    "            count_npl += 1\n",
    "        if lower_bound_bcr <= theta_star[i] <= upper_bound_bcr:\n",
    "            count_bcr += 1\n",
    "        counts[0, i] += count_npl\n",
    "        counts[1, i] += count_bcr\n",
    "            \n",
    "# Calculate the coverage probability\n",
    "coverage_probabilities[0, :] = counts[0, :] / num_realizations\n",
    "coverage_probabilities[1, :] = counts[1, :] / num_realizations\n",
    "mses_over_runs = np.mean(mses, axis=0)\n",
    "mses_over_runs2 = np.mean(mses2, axis=0)\n",
    "stds_mses_over_runs = np.std(mses, axis=0)\n",
    "stds_mses_over_runs2 = np.std(mses2, axis=0)\n",
    "        \n",
    "print(f\"Coverage Probabilities for Robust-MEM (MMD) : {coverage_probabilities[0, :] * 100}%\")\n",
    "print(f\"Coverage Probabilities for BCR: {coverage_probabilities[1, :] * 100}%\")\n",
    "print(f\"Mean Squared error res for Robust-MEM (MMD): {mses_over_runs[0]}\")\n",
    "print(f\"Mean Squared error res for BCR: {mses_over_runs[1]}\")\n",
    "print(f\"Mean Squared error param for Robust-MEM (MMD): {mses_over_runs2[0].mean()}\")\n",
    "print(f\"Mean Squared error param for BCR: {mses_over_runs2[1].mean()}\")\n",
    "\n",
    "print(f\"Std - Mean Squared error res for Robust-MEM (MMD): {stds_mses_over_runs[0]}\")\n",
    "print(f\"Std - Mean Squared error res for BCR: {stds_mses_over_runs[1]}\")\n",
    "print(f\"Std - Mean Squared error param for Robust-MEM (MMD): {stds_mses_over_runs2[0].mean()}\")\n",
    "print(f\"Std - Mean Squared error param for BCR: {stds_mses_over_runs2[1].mean()}\")"
   ]
  },
  {
   "cell_type": "code",
   "execution_count": 11,
   "metadata": {},
   "outputs": [
    {
     "data": {
      "text/plain": [
       "array([0.935     , 0.99921875])"
      ]
     },
     "execution_count": 11,
     "metadata": {},
     "output_type": "execute_result"
    }
   ],
   "source": [
    "coverage_probabilities.mean(axis=1)"
   ]
  },
  {
   "cell_type": "code",
   "execution_count": 23,
   "metadata": {},
   "outputs": [
    {
     "data": {
      "text/html": [
       "<div>\n",
       "<style scoped>\n",
       "    .dataframe tbody tr th:only-of-type {\n",
       "        vertical-align: middle;\n",
       "    }\n",
       "\n",
       "    .dataframe tbody tr th {\n",
       "        vertical-align: top;\n",
       "    }\n",
       "\n",
       "    .dataframe thead th {\n",
       "        text-align: right;\n",
       "    }\n",
       "</style>\n",
       "<table border=\"1\" class=\"dataframe\">\n",
       "  <thead>\n",
       "    <tr style=\"text-align: right;\">\n",
       "      <th></th>\n",
       "      <th>Robust-MEM (MMD)</th>\n",
       "      <th>BCR</th>\n",
       "    </tr>\n",
       "    <tr>\n",
       "      <th>Param</th>\n",
       "      <th></th>\n",
       "      <th></th>\n",
       "    </tr>\n",
       "  </thead>\n",
       "  <tbody>\n",
       "    <tr>\n",
       "      <th>$theta_0$</th>\n",
       "      <td>1.0</td>\n",
       "      <td>0.99</td>\n",
       "    </tr>\n",
       "    <tr>\n",
       "      <th>$theta_1$</th>\n",
       "      <td>1.0</td>\n",
       "      <td>0.99</td>\n",
       "    </tr>\n",
       "    <tr>\n",
       "      <th>$theta_10$</th>\n",
       "      <td>1.0</td>\n",
       "      <td>1.00</td>\n",
       "    </tr>\n",
       "    <tr>\n",
       "      <th>$theta_11$</th>\n",
       "      <td>1.0</td>\n",
       "      <td>1.00</td>\n",
       "    </tr>\n",
       "    <tr>\n",
       "      <th>$theta_12$</th>\n",
       "      <td>1.0</td>\n",
       "      <td>1.00</td>\n",
       "    </tr>\n",
       "    <tr>\n",
       "      <th>...</th>\n",
       "      <td>...</td>\n",
       "      <td>...</td>\n",
       "    </tr>\n",
       "    <tr>\n",
       "      <th>$theta_62$</th>\n",
       "      <td>1.0</td>\n",
       "      <td>1.00</td>\n",
       "    </tr>\n",
       "    <tr>\n",
       "      <th>$theta_63$</th>\n",
       "      <td>1.0</td>\n",
       "      <td>1.00</td>\n",
       "    </tr>\n",
       "    <tr>\n",
       "      <th>$theta_7$</th>\n",
       "      <td>1.0</td>\n",
       "      <td>1.00</td>\n",
       "    </tr>\n",
       "    <tr>\n",
       "      <th>$theta_8$</th>\n",
       "      <td>1.0</td>\n",
       "      <td>1.00</td>\n",
       "    </tr>\n",
       "    <tr>\n",
       "      <th>$theta_9$</th>\n",
       "      <td>1.0</td>\n",
       "      <td>1.00</td>\n",
       "    </tr>\n",
       "  </tbody>\n",
       "</table>\n",
       "<p>64 rows × 2 columns</p>\n",
       "</div>"
      ],
      "text/plain": [
       "            Robust-MEM (MMD)   BCR\n",
       "Param                             \n",
       "$theta_0$                1.0  0.99\n",
       "$theta_1$                1.0  0.99\n",
       "$theta_10$               1.0  1.00\n",
       "$theta_11$               1.0  1.00\n",
       "$theta_12$               1.0  1.00\n",
       "...                      ...   ...\n",
       "$theta_62$               1.0  1.00\n",
       "$theta_63$               1.0  1.00\n",
       "$theta_7$                1.0  1.00\n",
       "$theta_8$                1.0  1.00\n",
       "$theta_9$                1.0  1.00\n",
       "\n",
       "[64 rows x 2 columns]"
      ]
     },
     "execution_count": 23,
     "metadata": {},
     "output_type": "execute_result"
    }
   ],
   "source": [
    "# Table\n",
    "data_coverage = {'Param': [f'$theta_{i}$' for i in range(len(theta_star))], 'Robust-MEM (MMD)': coverage_probabilities[0, :], 'BCR': coverage_probabilities[1, :]}\n",
    "df = pd.DataFrame(data_coverage)\n",
    "cov_gb = df.groupby((['Param'])).mean()\n",
    "#pivot_cov = cov_gb.pivot_table(index=['Param'], columns='$\\sigma_\\nu$', values=['Coverage prob.'])\n",
    "cov_gb"
   ]
  },
  {
   "cell_type": "code",
   "execution_count": null,
   "metadata": {},
   "outputs": [],
   "source": [
    "def create_dataframe(mse_array, std_array, method_name):\n",
    "    \n",
    "    data = {'MSE': mse_array, 'Std': std_array, 'Method': [method_name]*len(mse_array)}\n",
    "    df = pd.DataFrame(data)\n",
    "    \n",
    "    return df"
   ]
  },
  {
   "cell_type": "code",
   "execution_count": 11,
   "metadata": {},
   "outputs": [
    {
     "data": {
      "text/plain": [
       "<matplotlib.legend.Legend at 0x7f028bb4dc10>"
      ]
     },
     "execution_count": 11,
     "metadata": {},
     "output_type": "execute_result"
    },
    {
     "data": {
      "image/png": "[encoded data removed]",
      "text/plain": [
       "<Figure size 640x480 with 1 Axes>"
      ]
     },
     "metadata": {},
     "output_type": "display_data"
    }
   ],
   "source": [
    "import matplotlib.pyplot as plt\n",
    "plt.plot(range(len(theta_star)), mses_over_runs2[0,:], '-o', label='R-MEM (MMD)')\n",
    "plt.fill_between(range(len(theta_star)), mses_over_runs2[0,:]-stds_mses_over_runs2[0,:], mses_over_runs2[0,:]+stds_mses_over_runs2[0,:])\n",
    "plt.plot(range(len(theta_star)), mses_over_runs2[1,:], '-x', label='BCR')\n",
    "plt.legend()\n"
   ]
  },
  {
   "cell_type": "code",
   "execution_count": 12,
   "metadata": {},
   "outputs": [],
   "source": [
    "seed = 0\n",
    "ates = np.zeros((num_realizations, 3, len(x)))\n",
    "x = np.random.randn(500)\n",
    "knots = np.zeros(30)\n",
    "for k in range(30):\n",
    "    knots[k] = ((31-k)*min(x)+k*max(x))/31\n",
    "        \n",
    "x_sorted = np.sort(x)\n",
    "for r in range(num_realizations):\n",
    "    seed += 1\n",
    "    path_data = f'./mh_study/sim_data_bcr/sim_data_bcr_{seed}.csv'\n",
    "    data_control, data_treat = process_csv(path_data)\n",
    "    boot_sample = np.loadtxt(folder_path+f'bootstrap_samples_bcr_{seed}.txt')\n",
    "    # change order of beta to match bcr and theta star \n",
    "    boot_sample[:, [2, 1]] = boot_sample[:, [1, 2]]\n",
    "    #bcr_sample = np.loadtxt(folder_path_bcr+f'bcr_sample_{seed}.txt')\n",
    "    bcr_sample = pd.read_csv(folder_path_bcr+f'bcr_sample_{seed}.txt', delim_whitespace=True)\n",
    "    \n",
    "    mean_boot_sample = boot_sample.mean(axis=0)\n",
    "    mean_bcr_sample = np.asarray(bcr_sample.mean(axis=1))\n",
    "    \n",
    "    \n",
    "    ate = compute_ate(x_sorted, theta_star, knots)\n",
    "    ate_npl = compute_ate(x_sorted, mean_boot_sample, knots)\n",
    "    ate_bcr = compute_ate(x_sorted, mean_bcr_sample, knots)\n",
    "    \n",
    "    ates[r, 0, :] = ate\n",
    "    ates[r, 1, :] = ate_npl\n",
    "    ates[r, 2, :] = ate_bcr"
   ]
  },
  {
   "cell_type": "code",
   "execution_count": 13,
   "metadata": {},
   "outputs": [],
   "source": [
    "def lighten_color(color, amount=0.5):\n",
    "    \"\"\"\n",
    "    From: https://stackoverflow.com/questions/37765197/darken-or-lighten-a-color-in-matplotlib\n",
    "    Lightens the given color by multiplying (1-luminosity) by the given amount.\n",
    "    Input can be matplotlib color string, hex string, or RGB tuple.\n",
    "\n",
    "    Examples:\n",
    "    >> lighten_color('g', 0.3)\n",
    "    >> lighten_color('#F034A3', 0.6)\n",
    "    >> lighten_color((.3,.55,.1), 0.5)\n",
    "    \"\"\"\n",
    "    import matplotlib.colors as mc\n",
    "    import colorsys\n",
    "    try:\n",
    "        c = mc.cnames[color]\n",
    "    except:\n",
    "        c = color\n",
    "    c = colorsys.rgb_to_hls(*mc.to_rgb(c))\n",
    "    return colorsys.hls_to_rgb(c[0], 1 - amount * (1 - c[1]), c[2])"
   ]
  },
  {
   "cell_type": "code",
   "execution_count": 14,
   "metadata": {},
   "outputs": [
    {
     "data": {
      "text/plain": [
       "<matplotlib.legend.Legend at 0x7f028ce77510>"
      ]
     },
     "execution_count": 14,
     "metadata": {},
     "output_type": "execute_result"
    },
    {
     "data": {
      "image/png": "[encoded data removed]",
      "text/plain": [
       "<Figure size 640x480 with 1 Axes>"
      ]
     },
     "metadata": {},
     "output_type": "display_data"
    }
   ],
   "source": [
    "ates_mean = ates.mean(axis=0)\n",
    "ates_std = ates.std(axis=0)\n",
    "plt.plot(x_sorted, ates_mean[0,:], label='true', linestyle='solid', color='dimgrey')\n",
    "\n",
    "plt.plot(x_sorted, ates_mean[2,:], label='bcr', linestyle='dotted', lw=2, color='#556B2F')\n",
    "plt.fill_between(x_sorted, ates_mean[2,:]-ates_std[2,:], ates_mean[2,:]+ates_std[2,:], color=lighten_color('#556B2F', 0.2))\n",
    "plt.plot(x_sorted, ates_mean[1,:], label='npl', linestyle = 'dashed', lw=2, color='goldenrod')\n",
    "plt.fill_between(x_sorted, ates_mean[1,:]-ates_std[1,:], ates_mean[1,:]+ates_std[1,:], lw=2, color=lighten_color('goldenrod',0.5))\n",
    "plt.legend()"
   ]
  },
  {
   "cell_type": "code",
   "execution_count": 15,
   "metadata": {},
   "outputs": [],
   "source": [
    "seed = 1\n",
    "ates = np.zeros((200, 3, len(x)))\n",
    "x = np.random.randn(500)\n",
    "knots = np.zeros(30)\n",
    "for k in range(30):\n",
    "    knots[k] = ((31-k)*min(x)+k*max(x))/31\n",
    "path_data = f'./mh_study/sim_data_bcr/sim_data_bcr_{seed}.csv'\n",
    "data_control, data_treat = process_csv(path_data)\n",
    "boot_sample = np.loadtxt(folder_path+f'bootstrap_samples_bcr_{seed}.txt')\n",
    "    # change order of beta to match bcr and theta star \n",
    "boot_sample[:, [2, 1]] = boot_sample[:, [1, 2]]\n",
    "    #bcr_sample = np.loadtxt(folder_path_bcr+f'bcr_sample_{seed}.txt')\n",
    "bcr_sample = pd.read_csv(folder_path_bcr+f'bcr_sample_{seed}.txt', delim_whitespace=True)\n",
    "    \n",
    "mean_boot_sample = boot_sample.mean(axis=0)\n",
    "mean_bcr_sample = np.asarray(bcr_sample.mean(axis=1))\n",
    "    \n",
    "ate = compute_ate(x_sorted, theta_star, knots)\n",
    "ate_npl = compute_ate(x_sorted, mean_boot_sample, knots)\n",
    "ate_bcr = compute_ate(x_sorted, mean_bcr_sample, knots)\n",
    "    \n",
    "ates[r, 0, :] = ate\n",
    "ates[r, 1, :] = ate_npl\n",
    "ates[r, 2, :] = ate_bcr"
   ]
  },
  {
   "cell_type": "code",
   "execution_count": null,
   "metadata": {},
   "outputs": [],
   "source": []
  }
 ],
 "metadata": {
  "kernelspec": {
   "display_name": "mem",
   "language": "python",
   "name": "python3"
  },
  "language_info": {
   "codemirror_mode": {
    "name": "ipython",
    "version": 3
   },
   "file_extension": ".py",
   "mimetype": "text/x-python",
   "name": "python",
   "nbconvert_exporter": "python",
   "pygments_lexer": "ipython3",
   "version": "3.11.7"
  }
 },
 "nbformat": 4,
 "nbformat_minor": 2
}
